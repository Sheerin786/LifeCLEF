{
  "cells": [
    {
      "cell_type": "code",
      "execution_count": null,
      "id": "c0aad674-f0cb-4402-8b74-426d8290eaec",
      "metadata": {
        "id": "c0aad674-f0cb-4402-8b74-426d8290eaec"
      },
      "outputs": [],
      "source": [
        "import csv\n",
        "import os\n",
        "\n",
        "file_path = '/content/Submission_output.csv'  # Replace with your actual file name\n",
        "column_with_paths = 0    # Change to correct column index (0 for first column)\n",
        "\n",
        "# Read the original content\n",
        "with open(file_path, mode='r', newline='') as infile:\n",
        "    rows = list(csv.reader(infile))\n",
        "\n",
        "# Modify the specified column in all rows\n",
        "for row in rows:\n",
        "    row[column_with_paths] = os.path.basename(row[column_with_paths])\n",
        "\n",
        "# Overwrite the original file with modified data\n",
        "with open(file_path, mode='w', newline='') as outfile:\n",
        "    writer = csv.writer(outfile)\n",
        "    writer.writerows(rows)"
      ]
    },
    {
      "cell_type": "code",
      "execution_count": null,
      "id": "cee60ac1-7bbe-4ce7-a388-e7043a72f51a",
      "metadata": {
        "id": "cee60ac1-7bbe-4ce7-a388-e7043a72f51a"
      },
      "outputs": [],
      "source": [
        "import csv\n",
        "import os\n",
        "\n",
        "file_path = '/content/Submission_output.csv'     # Your file name\n",
        "column_with_filenames = 1    # Index of the column to modify (0 = first column)\n",
        "\n",
        "def clean_filename(filename):\n",
        "    if filename.endswith('.jpg'):\n",
        "        name = os.path.splitext(filename)[0]  # remove .jpg\n",
        "        return '_'.join(name.split('_')[:-1])  # remove part after last underscore\n",
        "    return filename\n",
        "\n",
        "# Read and modify rows\n",
        "with open(file_path, mode='r', newline='') as infile:\n",
        "    rows = list(csv.reader(infile))\n",
        "\n",
        "for row in rows:\n",
        "    row[column_with_filenames] = clean_filename(os.path.basename(row[column_with_filenames]))\n",
        "\n",
        "# Overwrite CSV\n",
        "with open(file_path, mode='w', newline='') as outfile:\n",
        "    writer = csv.writer(outfile)\n",
        "    writer.writerows(rows)"
      ]
    },
    {
      "cell_type": "code",
      "execution_count": null,
      "id": "afc0bb43-fd08-46e1-a408-c270918fe7e9",
      "metadata": {
        "id": "afc0bb43-fd08-46e1-a408-c270918fe7e9"
      },
      "outputs": [],
      "source": [
        "file1 = '/content/Submission_output.csv'\n",
        "file2 = '/content/metadata.csv'\n",
        "\n",
        "# Step 1: Build lookup dict from file2 (skip header)\n",
        "lookup = {}\n",
        "with open(file2, mode='r', newline='') as f2:\n",
        "    reader = csv.reader(f2)\n",
        "    header2 = next(reader)  # Skip header\n",
        "    for row in reader:\n",
        "        if len(row) >= 3:\n",
        "            lookup[row[2]] = row[0]\n",
        "\n",
        "# Step 2: Process file1 (skip header)\n",
        "updated_rows = []\n",
        "with open(file1, mode='r', newline='') as f1:\n",
        "    reader = csv.reader(f1)\n",
        "    header1 = next(reader)  # Skip header\n",
        "    updated_rows.append(header1)  # Keep header in final output\n",
        "\n",
        "    for row in reader:\n",
        "        if row and row[0] in lookup:\n",
        "            row[0] = lookup[row[0]]\n",
        "        updated_rows.append(row)\n",
        "\n",
        "# Step 3: Overwrite file1 with updated content\n",
        "with open(file1, mode='w', newline='') as f1:\n",
        "    writer = csv.writer(f1)\n",
        "    writer.writerows(updated_rows)"
      ]
    },
    {
      "cell_type": "code",
      "execution_count": null,
      "id": "6ba18c7d-6a3a-4178-8c69-e7ca8c5b9a2e",
      "metadata": {
        "id": "6ba18c7d-6a3a-4178-8c69-e7ca8c5b9a2e"
      },
      "outputs": [],
      "source": [
        "\n",
        "\n",
        "import csv\n",
        "\n",
        "file1_path = '/content/Submission_output.csv'\n",
        "file2_path = '/content/metadata.csv'\n",
        "\n",
        "# Load file2 into memory\n",
        "file2_data = []\n",
        "with open(file2_path, 'r', newline='') as f2:\n",
        "    reader = csv.reader(f2)\n",
        "    file2_data = list(reader)\n",
        "\n",
        "# Process file1 and update first column if condition matches\n",
        "updated_rows = []\n",
        "with open(file1_path, 'r', newline='') as f1:\n",
        "    reader = csv.reader(f1)\n",
        "    for row1 in reader:\n",
        "        original_val = row1[0]\n",
        "        for row2 in file2_data:\n",
        "            if len(row2) >= 3 and original_val in row2[2]:\n",
        "                row1[0] = row2[0]  # Replace with file2's first column\n",
        "                break\n",
        "        updated_rows.append(row1)\n",
        "\n",
        "# Write back to file1\n",
        "with open(file1_path, 'w', newline='') as f1:\n",
        "    writer = csv.writer(f1)\n",
        "    writer.writerows(updated_rows)"
      ]
    },
    {
      "cell_type": "code",
      "source": [
        "import csv\n",
        "from collections import defaultdict\n",
        "\n",
        "file_path = 'trial.csv'\n",
        "\n",
        "# Read and round marks from the first column\n",
        "with open(file_path, 'r', newline='') as f:\n",
        "    reader = csv.reader(f)\n",
        "    marks = []\n",
        "    for row in reader:\n",
        "        if row and row[0].replace('.', '', 1).isdigit():\n",
        "            rounded_mark = round(float(row[0]))\n",
        "            marks.append(rounded_mark)\n",
        "\n",
        "# Group by ranges\n",
        "range_counts = defaultdict(int)\n",
        "\n",
        "for mark in marks:\n",
        "    # Compute range start\n",
        "    if mark < 1:\n",
        "        range_start = 0\n",
        "    else:\n",
        "        range_start = ((mark - 1) // 10) * 10 + 1\n",
        "    range_end = range_start + 9\n",
        "    range_label = f\"{range_start}-{range_end}\"\n",
        "    range_counts[range_label] += 1\n",
        "\n",
        "# Sort by starting mark and display\n",
        "for r in sorted(range_counts.keys(), key=lambda x: int(x.split('-')[0])):\n",
        "    print(f\"Marks {r}: {range_counts[r]} students\")\n"
      ],
      "metadata": {
        "colab": {
          "base_uri": "https://localhost:8080/"
        },
        "id": "dC_d-myPiN-S",
        "outputId": "c866be89-f6f2-4a86-8ba7-b3881ff85847"
      },
      "id": "dC_d-myPiN-S",
      "execution_count": null,
      "outputs": [
        {
          "output_type": "stream",
          "name": "stdout",
          "text": [
            "Marks 0-9: 1 students\n",
            "Marks 1-10: 345 students\n",
            "Marks 11-20: 487 students\n",
            "Marks 21-30: 400 students\n",
            "Marks 31-40: 279 students\n",
            "Marks 41-50: 195 students\n",
            "Marks 51-60: 136 students\n",
            "Marks 61-70: 92 students\n",
            "Marks 71-80: 64 students\n",
            "Marks 81-90: 54 students\n",
            "Marks 91-100: 32 students\n",
            "Marks 101-110: 24 students\n",
            "Marks 111-120: 9 students\n",
            "Marks 121-130: 7 students\n",
            "Marks 131-140: 1 students\n",
            "Marks 141-150: 3 students\n",
            "Marks 151-160: 4 students\n",
            "Marks 161-170: 1 students\n"
          ]
        }
      ]
    },
    {
      "cell_type": "code",
      "source": [
        "import csv\n",
        "\n",
        "file_path = 'Nextrun.csv'\n",
        "\n",
        "# Read all rows and apply the condition\n",
        "updated_rows = []\n",
        "with open(file_path, 'r', newline='') as f:\n",
        "    reader = csv.reader(f)\n",
        "    for row in reader:\n",
        "        if len(row) >= 3:\n",
        "            try:\n",
        "                if float(row[2]) > 10:\n",
        "                    row[1] = \"new_individual\"\n",
        "            except ValueError:\n",
        "                pass  # skip rows where the 3rd column is not a number\n",
        "        updated_rows.append(row)\n",
        "\n",
        "# Write back to the same file\n",
        "with open(file_path, 'w', newline='') as f:\n",
        "    writer = csv.writer(f)\n",
        "    writer.writerows(updated_rows)"
      ],
      "metadata": {
        "id": "EUHCTqnxlhZI"
      },
      "id": "EUHCTqnxlhZI",
      "execution_count": null,
      "outputs": []
    }
  ],
  "metadata": {
    "kernelspec": {
      "display_name": "Python (DeepSeek-R1)",
      "language": "python",
      "name": "deepseek-r1"
    },
    "language_info": {
      "codemirror_mode": {
        "name": "ipython",
        "version": 3
      },
      "file_extension": ".py",
      "mimetype": "text/x-python",
      "name": "python",
      "nbconvert_exporter": "python",
      "pygments_lexer": "ipython3",
      "version": "3.10.12"
    },
    "colab": {
      "provenance": []
    }
  },
  "nbformat": 4,
  "nbformat_minor": 5
}